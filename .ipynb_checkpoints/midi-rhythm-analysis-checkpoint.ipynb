{
 "cells": [
  {
   "cell_type": "markdown",
   "metadata": {},
   "source": [
    "# MIDI Rhythm Analysis\n",
    "\n",
    "This notebook demonstrates how to analyze rhythm patterns in MIDI files using Python. We'll use the following libraries:\n",
    "- `pretty_midi`: For reading and processing MIDI files\n",
    "- `numpy`: For numerical computations\n",
    "- `matplotlib`: For visualization\n",
    "- `librosa`: For additional music analysis tools"
   ]
  },
  {
   "cell_type": "code",
   "execution_count": null,
   "metadata": {},
   "source": [
    "# Install required packages\n",
    "!pip install pretty_midi numpy matplotlib librosa"
   ]
  },
  {
   "cell_type": "code",
   "execution_count": null,
   "metadata": {},
   "source": [
    "import pretty_midi\n",
    "import numpy as np\n",
    "import matplotlib.pyplot as plt\n",
    "import librosa\n",
    "from collections import defaultdict"
   ]
  },
  {
   "cell_type": "markdown",
   "metadata": {},
   "source": [
    "## 1. Load and Process MIDI File\n",
    "\n",
    "First, we'll create functions to load and process MIDI files."
   ]
  },
  {
   "cell_type": "code",
   "execution_count": null,
   "metadata": {},
   "source": [
    "def load_midi(midi_path):\n",
    "    \"\"\"Load a MIDI file and return a PrettyMIDI object\"\"\"\n",
    "    try:\n",
    "        midi_data = pretty_midi.PrettyMIDI(midi_path)\n",
    "        return midi_data\n",
    "    except Exception as e:\n",
    "        print(f\"Error loading MIDI file: {e}\")\n",
    "        return None\n",
    "\n",
    "def extract_note_events(midi_data):\n",
    "    \"\"\"Extract note events from all instruments in the MIDI file\"\"\"\n",
    "    note_events = []\n",
    "    for instrument in midi_data.instruments:\n",
    "        for note in instrument.notes:\n",
    "            note_events.append({\n",
    "                'start': note.start,\n",
    "                'end': note.end,\n",
    "                'duration': note.end - note.start,\n",
    "                'pitch': note.pitch,\n",
    "                'velocity': note.velocity,\n",
    "                'instrument': instrument.program\n",
    "            })\n",
    "    return sorted(note_events, key=lambda x: x['start'])"
   ]
  },
  {
   "cell_type": "markdown",
   "metadata": {},
   "source": [
    "## 2. Rhythm Analysis Functions\n",
    "\n",
    "Now we'll create functions for analyzing various rhythmic aspects of the music."
   ]
  },
  {
   "cell_type": "code",
   "execution_count": null,
   "metadata": {},
   "source": [
    "def analyze_tempo_changes(midi_data):\n",
    "    \"\"\"Analyze tempo changes throughout the piece\"\"\"\n",
    "    tempo_changes = midi_data.get_tempo_changes()\n",
    "    return tempo_changes\n",
    "\n",
    "def analyze_note_density(note_events, window_size=1.0):\n",
    "    \"\"\"Calculate note density over time using a sliding window\"\"\"\n",
    "    if not note_events:\n",
    "        return [], []\n",
    "    \n",
    "    max_time = max(event['end'] for event in note_events)\n",
    "    time_points = np.arange(0, max_time, window_size)\n",
    "    densities = []\n",
    "    \n",
    "    for t in time_points:\n",
    "        notes_in_window = sum(1 for note in note_events \n",
    "                             if note['start'] <= t <= note['end'])\n",
    "        densities.append(notes_in_window)\n",
    "    \n",
    "    return time_points, densities\n",
    "\n",
    "def find_rhythm_patterns(note_events, quantization=0.25):\n",
    "    \"\"\"Find common rhythm patterns in the piece\"\"\"\n",
    "    patterns = defaultdict(int)\n",
    "    current_pattern = []\n",
    "    \n",
    "    for i in range(1, len(note_events)):\n",
    "        ioi = round((note_events[i]['start'] - note_events[i-1]['start']) / quantization) * quantization\n",
    "        current_pattern.append(ioi)\n",
    "        \n",
    "        if len(current_pattern) == 4:  # Look for 4-note patterns\n",
    "            pattern_tuple = tuple(current_pattern)\n",
    "            patterns[pattern_tuple] += 1\n",
    "            current_pattern = current_pattern[1:]\n",
    "    \n",
    "    return patterns"
   ]
  },
  {
   "cell_type": "markdown",
   "metadata": {},
   "source": [
    "## 3. Visualization Functions\n",
    "\n",
    "Let's create functions to visualize our rhythm analysis results."
   ]
  },
  {
   "cell_type": "code",
   "execution_count": null,
   "metadata": {},
   "source": [
    "def plot_rhythm_analysis(midi_data, note_events):\n",
    "    \"\"\"Create a comprehensive visualization of rhythm analysis\"\"\"\n",
    "    plt.figure(figsize=(15, 10))\n",
    "    \n",
    "    # Plot 1: Note density over time\n",
    "    plt.subplot(3, 1, 1)\n",
    "    time_points, densities = analyze_note_density(note_events)\n",
    "    plt.plot(time_points, densities)\n",
    "    plt.title('Note Density Over Time')\n",
    "    plt.xlabel('Time (seconds)')\n",
    "    plt.ylabel('Number of Active Notes')\n",
    "    \n",
    "    # Plot 2: Note onset distribution\n",
    "    plt.subplot(3, 1, 2)\n",
    "    onset_times = [note['start'] % 4 for note in note_events]  # Modulo 4 to show within-measure position\n",
    "    plt.hist(onset_times, bins=32)\n",
    "    plt.title('Note Onset Distribution (Within Measure)')\n",
    "    plt.xlabel('Position in Measure')\n",
    "    plt.ylabel('Number of Notes')\n",
    "    \n",
    "    # Plot 3: Note duration distribution\n",
    "    plt.subplot(3, 1, 3)\n",
    "    durations = [note['duration'] for note in note_events]\n",
    "    plt.hist(durations, bins=30)\n",
    "    plt.title('Note Duration Distribution')\n",
    "    plt.xlabel('Duration (seconds)')\n",
    "    plt.ylabel('Number of Notes')\n",
    "    \n",
    "    plt.tight_layout()\n",
    "    plt.show()"
   ]
  },
  {
   "cell_type": "markdown",
   "metadata": {},
   "source": [
    "## 4. Example Usage\n",
    "\n",
    "Here's how to use the analysis functions with your MIDI file."
   ]
  },
  {
   "cell_type": "code",
   "execution_count": null,
   "metadata": {},
   "source": [
    "# Load and analyze a MIDI file\n",
    "midi_path = 'your_midi_file.mid'  # Replace with your MIDI file path\n",
    "midi_data = load_midi(midi_path)\n",
    "\n",
    "if midi_data:\n",
    "    # Extract note events\n",
    "    note_events = extract_note_events(midi_data)\n",
    "    \n",
    "    # Analyze tempo changes\n",
    "    tempo_changes = analyze_tempo_changes(midi_data)\n",
    "    print(\"\\nTempo changes:\")\n",
    "    print(f\"Times: {tempo_changes[0]}\")\n",
    "    print(f\"Tempos: {tempo_changes[1]}\")\n",
    "    \n",
    "    # Find common rhythm patterns\n",
    "    patterns = find_rhythm_patterns(note_events)\n",
    "    print(\"\\nMost common rhythm patterns (in beats):\")\n",
    "    for pattern, count in sorted(patterns.items(), key=lambda x: x[1], reverse=True)[:5]:\n",
    "        print(f\"Pattern {pattern}: {count} occurrences\")\n",
    "    \n",
    "    # Create visualizations\n",
    "    plot_rhythm_analysis(midi_data, note_events)"
   ]
  },
  {
   "cell_type": "markdown",
   "metadata": {},
   "source": [
    "## 5. Advanced Analysis: Groove and Syncopation\n",
    "\n",
    "Let's add some more advanced rhythm analysis features."
   ]
  },
  {
   "cell_type": "code",
   "execution_count": null,
   "metadata": {},
   "source": [
    "def analyze_syncopation(note_events, beats_per_bar=4):\n",
    "    \"\"\"Analyze syncopation by looking at off-beat emphasis\"\"\"\n",
    "    syncopation_scores = []\n",
    "    \n",
    "    for note in note_events:\n",
    "        # Calculate position within the bar\n",
    "        position_in_bar = note['start'] % beats_per_bar\n",
    "        \n",
    "        # Higher velocity notes on weak beats indicate syncopation\n",
    "        is_strong_beat = position_in_bar % 1.0 < 0.1  # Within 0.1 of a beat\n",
    "        velocity_factor = note['velocity'] / 127.0\n",
    "        \n",
    "        if not is_strong_beat and velocity_factor > 0.5:\n",
    "            syncopation_scores.append({\n",
    "                'time': note['start'],\n",
    "                'score': velocity_factor * (1 - (position_in_bar % 1.0))\n",
    "            })\n",
    "    \n",
    "    return syncopation_scores\n",
    "\n",
    "def analyze_groove(note_events, quantization=0.125):\n",
    "    \"\"\"Analyze groove by measuring timing deviations from the grid\"\"\"\n",
    "    groove_deviations = []\n",
    "    \n",
    "    for note in note_events:\n",
    "        # Calculate deviation from closest quantized position\n",
    "        quantized_start = round(note['start'] / quantization) * quantization\n",
    "        deviation = note['start'] - quantized_start\n",
    "        \n",
    "        groove_deviations.append({\n",
    "            'time': note['start'],\n",
    "            'deviation': deviation\n",
    "        })\n",
    "    \n",
    "    return groove_deviations"
   ]
  },
  {
   "cell_type": "code",
   "execution_count": null,
   "metadata": {},
   "source": [
    "# Analyze groove and syncopation\n",
    "if midi_data:\n",
    "    syncopation_scores = analyze_syncopation(note_events)\n",
    "    groove_deviations = analyze_groove(note_events)\n",
    "    \n",
    "    # Plot results\n",
    "    plt.figure(figsize=(12, 6))\n",
    "    \n",
    "    plt.subplot(2, 1, 1)\n",
    "    times = [s['time'] for s in syncopation_scores]\n",
    "    scores = [s['score'] for s in syncopation_scores]\n",
    "    plt.scatter(times, scores, alpha=0.5)\n",
    "    plt.title('Syncopation Analysis')\n",
    "    plt.xlabel('Time (seconds)')\n",
    "    plt.ylabel('Syncopation Score')\n",
    "    \n",
    "    plt.subplot(2, 1, 2)\n",
    "    times = [g['time'] for g in groove_deviations]\n",
    "    deviations = [g['deviation'] for g in groove_deviations]\n",
    "    plt.scatter(times, deviations, alpha=0.5)\n",
    "    plt.title('Groove Analysis (Timing Deviations)')\n",
    "    plt.xlabel('Time (seconds)')\n",
    "    plt.ylabel('Deviation from Grid (seconds)')\n",
    "    \n",
    "    plt.tight_layout()\n",
    "    plt.show()"
   ]
  }
 ],
 "metadata": {
  "kernelspec": {
   "display_name": "Python 3",
   "language": "python",
   "name": "python3"
  },
  "language_info": {
   "codemirror_mode": {
    "name": "ipython",
    "version": 3
   },
   "file_extension": ".py",
   "mimetype": "text/x-python",
   "name": "python",
   "nbconvert_exporter": "python",
   "pygments_lexer": "ipython3",
   "version": "3.8.0"
  }
 },
 "nbformat": 4,
 "nbformat_minor": 4
}