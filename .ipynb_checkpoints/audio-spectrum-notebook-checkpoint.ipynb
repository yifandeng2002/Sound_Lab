{
 "cells": [
  {
   "cell_type": "markdown",
   "metadata": {},
   "source": [
    "# Audio Spectrum Analysis\n",
    "This notebook demonstrates how to load an audio file and create spectral visualizations using Python libraries."
   ]
  },
  {
   "cell_type": "code",
   "execution_count": null,
   "metadata": {},
   "source": [
    "# Import required libraries\n",
    "import numpy as np\n",
    "import librosa\n",
    "import librosa.display\n",
    "import matplotlib.pyplot as plt\n",
    "from IPython.display import Audio\n",
    "%matplotlib inline"
   ]
  },
  {
   "cell_type": "markdown",
   "metadata": {},
   "source": [
    "## Load and Play Audio File\n",
    "First, we'll load the audio file and enable playback within the notebook."
   ]
  },
  {
   "cell_type": "code",
   "execution_count": null,
   "metadata": {},
   "source": [
    "# Load the audio file\n",
    "# Replace 'your_audio_file.mp3' with your audio file path\n",
    "file_path = 'your_audio_file.mp3'\n",
    "y, sr = librosa.load(file_path)\n",
    "\n",
    "# Display audio player\n",
    "Audio(file_path)"
   ]
  },
  {
   "cell_type": "markdown",
   "metadata": {},
   "source": [
    "## Waveform Visualization\n",
    "Let's start by plotting the waveform of the audio signal."
   ]
  },
  {
   "cell_type": "code",
   "execution_count": null,
   "metadata": {},
   "source": [
    "plt.figure(figsize=(15, 5))\n",
    "librosa.display.waveshow(y, sr=sr)\n",
    "plt.title('Waveform')\n",
    "plt.xlabel('Time (seconds)')\n",
    "plt.ylabel('Amplitude')\n",
    "plt.show()"
   ]
  },
  {
   "cell_type": "markdown",
   "metadata": {},
   "source": [
    "## Spectrogram Analysis\n",
    "Now we'll create a spectrogram to visualize the frequency content over time."
   ]
  },
  {
   "cell_type": "code",
   "execution_count": null,
   "metadata": {},
   "source": [
    "# Compute the spectrogram\n",
    "D = librosa.stft(y)\n",
    "S_db = librosa.amplitude_to_db(np.abs(D), ref=np.max)\n",
    "\n",
    "# Plot the spectrogram\n",
    "plt.figure(figsize=(15, 5))\n",
    "librosa.display.specshow(S_db, sr=sr, x_axis='time', y_axis='hz')\n",
    "plt.colorbar(format='%+2.0f dB')\n",
    "plt.title('Spectrogram')\n",
    "plt.show()"
   ]
  },
  {
   "cell_type": "markdown",
   "metadata": {},
   "source": [
    "## Mel Spectrogram\n",
    "We'll also create a mel spectrogram, which better represents how humans perceive sound frequencies."
   ]
  },
  {
   "cell_type": "code",
   "execution_count": null,
   "metadata": {},
   "source": [
    "# Compute mel spectrogram\n",
    "mel_spect = librosa.feature.melspectrogram(y=y, sr=sr)\n",
    "mel_db = librosa.power_to_db(mel_spect, ref=np.max)\n",
    "\n",
    "# Plot mel spectrogram\n",
    "plt.figure(figsize=(15, 5))\n",
    "librosa.display.specshow(mel_db, sr=sr, x_axis='time', y_axis='mel')\n",
    "plt.colorbar(format='%+2.0f dB')\n",
    "plt.title('Mel Spectrogram')\n",
    "plt.show()"
   ]
  },
  {
   "cell_type": "markdown",
   "metadata": {},
   "source": [
    "## Chromagram\n",
    "Finally, let's create a chromagram to visualize the distribution of pitch classes."
   ]
  },
  {
   "cell_type": "code",
   "execution_count": null,
   "metadata": {},
   "source": [
    "# Compute and display chromagram\n",
    "chroma = librosa.feature.chroma_stft(y=y, sr=sr)\n",
    "\n",
    "plt.figure(figsize=(15, 5))\n",
    "librosa.display.specshow(chroma, y_axis='chroma', x_axis='time')\n",
    "plt.colorbar()\n",
    "plt.title('Chromagram')\n",
    "plt.show()"
   ]
  },
  {
   "cell_type": "markdown",
   "metadata": {},
   "source": [
    "## Additional Analysis Functions\n",
    "Here are some utility functions for more detailed analysis."
   ]
  },
  {
   "cell_type": "code",
   "execution_count": null,
   "metadata": {},
   "source": [
    "def analyze_frequency_content(y, sr):\n",
    "    \"\"\"Analyze the frequency content of the audio file\"\"\"\n",
    "    # Compute FFT\n",
    "    D = np.abs(librosa.stft(y))\n",
    "    \n",
    "    # Get frequency bins\n",
    "    freqs = librosa.fft_frequencies(sr=sr)\n",
    "    \n",
    "    # Calculate average magnitude for each frequency\n",
    "    avg_magnitude = np.mean(D, axis=1)\n",
    "    \n",
    "    # Plot frequency spectrum\n",
    "    plt.figure(figsize=(15, 5))\n",
    "    plt.semilogx(freqs, avg_magnitude)\n",
    "    plt.grid(True)\n",
    "    plt.xlabel('Frequency (Hz)')\n",
    "    plt.ylabel('Magnitude')\n",
    "    plt.title('Average Frequency Spectrum')\n",
    "    plt.show()\n",
    "\n",
    "def detect_onsets(y, sr):\n",
    "    \"\"\"Detect and visualize onset events in the audio\"\"\"\n",
    "    # Get onset frames\n",
    "    onset_frames = librosa.onset.onset_detect(y=y, sr=sr)\n",
    "    onset_times = librosa.frames_to_time(onset_frames, sr=sr)\n",
    "    \n",
    "    # Plot waveform with onset markers\n",
    "    plt.figure(figsize=(15, 5))\n",
    "    librosa.display.waveshow(y, sr=sr)\n",
    "    plt.vlines(onset_times, -1, 1, color='r', label='Onsets')\n",
    "    plt.legend()\n",
    "    plt.title('Waveform with Onset Detection')\n",
    "    plt.show()\n",
    "\n",
    "# Example usage of the analysis functions\n",
    "analyze_frequency_content(y, sr)\n",
    "detect_onsets(y, sr)"
   ]
  }
 ],
 "metadata": {
  "kernelspec": {
   "display_name": "Python 3",
   "language": "python",
   "name": "python3"
  },
  "language_info": {
   "codemirror_mode": {
    "name": "ipython",
    "version": 3
   },
   "file_extension": ".py",
   "mimetype": "text/x-python",
   "name": "python",
   "nbconvert_exporter": "python",
   "pygments_lexer": "ipython3",
   "version": "3.8.0"
  }
 },
 "nbformat": 4,
 "nbformat_minor": 4
}