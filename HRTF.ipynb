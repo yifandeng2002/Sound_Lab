{
 "cells": [
  {
   "cell_type": "code",
   "execution_count": 4,
   "id": "77fc360f-262b-47e9-9bcf-d2dad2c3dd87",
   "metadata": {},
   "outputs": [
    {
     "name": "stdout",
     "output_type": "stream",
     "text": [
      "Requirement already satisfied: pysoundfile in /Users/yifan/Library/jupyterlab-desktop/jlab_server/lib/python3.12/site-packages (0.9.0.post1)\n",
      "Requirement already satisfied: cffi>=0.6 in /Users/yifan/Library/jupyterlab-desktop/jlab_server/lib/python3.12/site-packages (from pysoundfile) (1.17.0)\n",
      "Requirement already satisfied: pycparser in /Users/yifan/Library/jupyterlab-desktop/jlab_server/lib/python3.12/site-packages (from cffi>=0.6->pysoundfile) (2.22)\n",
      "Note: you may need to restart the kernel to use updated packages.\n"
     ]
    }
   ],
   "source": [
    "pip install pysoundfile"
   ]
  },
  {
   "cell_type": "code",
   "execution_count": 5,
   "id": "c4b4e04d-043a-4fb6-bacd-fb82f2d7f692",
   "metadata": {},
   "outputs": [
    {
     "name": "stdout",
     "output_type": "stream",
     "text": [
      "Requirement already satisfied: soundfile in /Users/yifan/Library/jupyterlab-desktop/jlab_server/lib/python3.12/site-packages (0.13.1)\n",
      "Requirement already satisfied: cffi>=1.0 in /Users/yifan/Library/jupyterlab-desktop/jlab_server/lib/python3.12/site-packages (from soundfile) (1.17.0)\n",
      "Requirement already satisfied: numpy in /Users/yifan/Library/jupyterlab-desktop/jlab_server/lib/python3.12/site-packages (from soundfile) (2.1.0)\n",
      "Requirement already satisfied: pycparser in /Users/yifan/Library/jupyterlab-desktop/jlab_server/lib/python3.12/site-packages (from cffi>=1.0->soundfile) (2.22)\n",
      "Note: you may need to restart the kernel to use updated packages.\n"
     ]
    }
   ],
   "source": [
    "pip install soundfile"
   ]
  },
  {
   "cell_type": "code",
   "execution_count": 6,
   "id": "a854d6bf-9b31-409f-b888-d3b8d735d440",
   "metadata": {},
   "outputs": [
    {
     "name": "stdout",
     "output_type": "stream",
     "text": [
      "Requirement already satisfied: Ipython in /Users/yifan/Library/jupyterlab-desktop/jlab_server/lib/python3.12/site-packages (8.26.0)\n",
      "Requirement already satisfied: decorator in /Users/yifan/Library/jupyterlab-desktop/jlab_server/lib/python3.12/site-packages (from Ipython) (5.1.1)\n",
      "Requirement already satisfied: jedi>=0.16 in /Users/yifan/Library/jupyterlab-desktop/jlab_server/lib/python3.12/site-packages (from Ipython) (0.19.1)\n",
      "Requirement already satisfied: matplotlib-inline in /Users/yifan/Library/jupyterlab-desktop/jlab_server/lib/python3.12/site-packages (from Ipython) (0.1.7)\n",
      "Requirement already satisfied: prompt-toolkit<3.1.0,>=3.0.41 in /Users/yifan/Library/jupyterlab-desktop/jlab_server/lib/python3.12/site-packages (from Ipython) (3.0.47)\n",
      "Requirement already satisfied: pygments>=2.4.0 in /Users/yifan/Library/jupyterlab-desktop/jlab_server/lib/python3.12/site-packages (from Ipython) (2.18.0)\n",
      "Requirement already satisfied: stack-data in /Users/yifan/Library/jupyterlab-desktop/jlab_server/lib/python3.12/site-packages (from Ipython) (0.6.2)\n",
      "Requirement already satisfied: traitlets>=5.13.0 in /Users/yifan/Library/jupyterlab-desktop/jlab_server/lib/python3.12/site-packages (from Ipython) (5.14.3)\n",
      "Requirement already satisfied: pexpect>4.3 in /Users/yifan/Library/jupyterlab-desktop/jlab_server/lib/python3.12/site-packages (from Ipython) (4.9.0)\n",
      "Requirement already satisfied: parso<0.9.0,>=0.8.3 in /Users/yifan/Library/jupyterlab-desktop/jlab_server/lib/python3.12/site-packages (from jedi>=0.16->Ipython) (0.8.4)\n",
      "Requirement already satisfied: ptyprocess>=0.5 in /Users/yifan/Library/jupyterlab-desktop/jlab_server/lib/python3.12/site-packages (from pexpect>4.3->Ipython) (0.7.0)\n",
      "Requirement already satisfied: wcwidth in /Users/yifan/Library/jupyterlab-desktop/jlab_server/lib/python3.12/site-packages (from prompt-toolkit<3.1.0,>=3.0.41->Ipython) (0.2.13)\n",
      "Requirement already satisfied: executing>=1.2.0 in /Users/yifan/Library/jupyterlab-desktop/jlab_server/lib/python3.12/site-packages (from stack-data->Ipython) (2.0.1)\n",
      "Requirement already satisfied: asttokens>=2.1.0 in /Users/yifan/Library/jupyterlab-desktop/jlab_server/lib/python3.12/site-packages (from stack-data->Ipython) (2.4.1)\n",
      "Requirement already satisfied: pure-eval in /Users/yifan/Library/jupyterlab-desktop/jlab_server/lib/python3.12/site-packages (from stack-data->Ipython) (0.2.3)\n",
      "Requirement already satisfied: six>=1.12.0 in /Users/yifan/Library/jupyterlab-desktop/jlab_server/lib/python3.12/site-packages (from asttokens>=2.1.0->stack-data->Ipython) (1.16.0)\n",
      "Note: you may need to restart the kernel to use updated packages.\n"
     ]
    }
   ],
   "source": [
    "pip install Ipython"
   ]
  },
  {
   "cell_type": "code",
   "execution_count": 7,
   "id": "0e1c762b-f225-445e-bf49-7dc7fdde5b20",
   "metadata": {},
   "outputs": [
    {
     "name": "stdout",
     "output_type": "stream",
     "text": [
      "Requirement already satisfied: python-sofa in /Users/yifan/Library/jupyterlab-desktop/jlab_server/lib/python3.12/site-packages (0.2.0)\n",
      "Requirement already satisfied: numpy in /Users/yifan/Library/jupyterlab-desktop/jlab_server/lib/python3.12/site-packages (from python-sofa) (2.1.0)\n",
      "Requirement already satisfied: scipy>=1.2.0 in /Users/yifan/Library/jupyterlab-desktop/jlab_server/lib/python3.12/site-packages (from python-sofa) (1.14.1)\n",
      "Requirement already satisfied: netcdf4 in /Users/yifan/Library/jupyterlab-desktop/jlab_server/lib/python3.12/site-packages (from python-sofa) (1.7.2)\n",
      "Requirement already satisfied: datetime in /Users/yifan/Library/jupyterlab-desktop/jlab_server/lib/python3.12/site-packages (from python-sofa) (5.5)\n",
      "Requirement already satisfied: zope.interface in /Users/yifan/Library/jupyterlab-desktop/jlab_server/lib/python3.12/site-packages (from datetime->python-sofa) (7.2)\n",
      "Requirement already satisfied: pytz in /Users/yifan/Library/jupyterlab-desktop/jlab_server/lib/python3.12/site-packages (from datetime->python-sofa) (2024.1)\n",
      "Requirement already satisfied: cftime in /Users/yifan/Library/jupyterlab-desktop/jlab_server/lib/python3.12/site-packages (from netcdf4->python-sofa) (1.6.4.post1)\n",
      "Requirement already satisfied: certifi in /Users/yifan/Library/jupyterlab-desktop/jlab_server/lib/python3.12/site-packages (from netcdf4->python-sofa) (2024.7.4)\n",
      "Requirement already satisfied: setuptools in /Users/yifan/Library/jupyterlab-desktop/jlab_server/lib/python3.12/site-packages (from zope.interface->datetime->python-sofa) (72.2.0)\n",
      "Note: you may need to restart the kernel to use updated packages.\n"
     ]
    }
   ],
   "source": [
    "pip install python-sofa"
   ]
  },
  {
   "cell_type": "code",
   "execution_count": 8,
   "id": "e21e4fd5-0469-4040-8aa2-32cef79caa5e",
   "metadata": {},
   "outputs": [],
   "source": [
    "import numpy as np"
   ]
  },
  {
   "cell_type": "code",
   "execution_count": 9,
   "id": "4e8efada-b813-4c87-92b3-03e5b25cda62",
   "metadata": {},
   "outputs": [],
   "source": [
    "import matplotlib.pyplot as plt"
   ]
  },
  {
   "cell_type": "code",
   "execution_count": 10,
   "id": "63290b3e-9eff-46ad-97e9-d8317801f79e",
   "metadata": {},
   "outputs": [],
   "source": [
    "import sys, glob"
   ]
  },
  {
   "cell_type": "code",
   "execution_count": 11,
   "id": "cd746393-8e2a-40ea-8648-086cdf6ec93c",
   "metadata": {},
   "outputs": [
    {
     "name": "stdout",
     "output_type": "stream",
     "text": [
      "Requirement already satisfied: pysoundfile in /Users/yifan/Library/jupyterlab-desktop/jlab_server/lib/python3.12/site-packages (0.9.0.post1)\n",
      "Requirement already satisfied: cffi>=0.6 in /Users/yifan/Library/jupyterlab-desktop/jlab_server/lib/python3.12/site-packages (from pysoundfile) (1.17.0)\n",
      "Requirement already satisfied: pycparser in /Users/yifan/Library/jupyterlab-desktop/jlab_server/lib/python3.12/site-packages (from cffi>=0.6->pysoundfile) (2.22)\n",
      "Note: you may need to restart the kernel to use updated packages.\n"
     ]
    }
   ],
   "source": [
    "pip install pysoundfile"
   ]
  },
  {
   "cell_type": "code",
   "execution_count": 12,
   "id": "46efed45-68b3-4424-b61c-89530277c88c",
   "metadata": {},
   "outputs": [],
   "source": [
    "import os\n",
    "os.environ[\"LD_LIBRARY_PATH\"] = \"/usr/local/lib\""
   ]
  },
  {
   "cell_type": "code",
   "execution_count": 13,
   "id": "771e80de-03be-4a23-8b7b-ebfaf5081f8e",
   "metadata": {},
   "outputs": [
    {
     "name": "stdout",
     "output_type": "stream",
     "text": [
      "/Users/yifan/Library/jupyterlab-desktop/jlab_server/bin/python\n"
     ]
    }
   ],
   "source": [
    "import sys\n",
    "print(sys.executable)"
   ]
  },
  {
   "cell_type": "code",
   "execution_count": 14,
   "id": "69b255b2-6bcb-47b2-b02e-5ec3bb13d17d",
   "metadata": {},
   "outputs": [
    {
     "name": "stdout",
     "output_type": "stream",
     "text": [
      "Requirement already satisfied: soundfile in /Users/yifan/Library/jupyterlab-desktop/jlab_server/lib/python3.12/site-packages (0.13.1)\n",
      "Requirement already satisfied: cffi>=1.0 in /Users/yifan/Library/jupyterlab-desktop/jlab_server/lib/python3.12/site-packages (from soundfile) (1.17.0)\n",
      "Requirement already satisfied: numpy in /Users/yifan/Library/jupyterlab-desktop/jlab_server/lib/python3.12/site-packages (from soundfile) (2.1.0)\n",
      "Requirement already satisfied: pycparser in /Users/yifan/Library/jupyterlab-desktop/jlab_server/lib/python3.12/site-packages (from cffi>=1.0->soundfile) (2.22)\n"
     ]
    }
   ],
   "source": [
    "!pip install soundfile"
   ]
  },
  {
   "cell_type": "code",
   "execution_count": 15,
   "id": "09992098-b75d-4244-8353-30742c95cb21",
   "metadata": {},
   "outputs": [
    {
     "name": "stdout",
     "output_type": "stream",
     "text": [
      "Requirement already satisfied: SoundFile in /Users/yifan/Library/jupyterlab-desktop/jlab_server/lib/python3.12/site-packages (0.13.1)\n",
      "Requirement already satisfied: cffi>=1.0 in /Users/yifan/Library/jupyterlab-desktop/jlab_server/lib/python3.12/site-packages (from SoundFile) (1.17.0)\n",
      "Requirement already satisfied: numpy in /Users/yifan/Library/jupyterlab-desktop/jlab_server/lib/python3.12/site-packages (from SoundFile) (2.1.0)\n",
      "Requirement already satisfied: pycparser in /Users/yifan/Library/jupyterlab-desktop/jlab_server/lib/python3.12/site-packages (from cffi>=1.0->SoundFile) (2.22)\n",
      "Note: you may need to restart the kernel to use updated packages.\n"
     ]
    }
   ],
   "source": [
    "pip install SoundFile"
   ]
  },
  {
   "cell_type": "code",
   "execution_count": 17,
   "id": "c20b7651-47af-4028-8041-1d806bedc190",
   "metadata": {},
   "outputs": [],
   "source": [
    "import sofa\n",
    "import librosa\n",
    "from scipy import signal\n",
    "from IPython.display import Audio"
   ]
  },
  {
   "cell_type": "code",
   "execution_count": null,
   "id": "3abbba30-7e23-4b79-9a61-2e0eef07b07b",
   "metadata": {},
   "outputs": [],
   "source": []
  }
 ],
 "metadata": {
  "kernelspec": {
   "display_name": "Python 3 (ipykernel)",
   "language": "python",
   "name": "python3"
  },
  "language_info": {
   "codemirror_mode": {
    "name": "ipython",
    "version": 3
   },
   "file_extension": ".py",
   "mimetype": "text/x-python",
   "name": "python",
   "nbconvert_exporter": "python",
   "pygments_lexer": "ipython3",
   "version": "3.12.5"
  }
 },
 "nbformat": 4,
 "nbformat_minor": 5
}
